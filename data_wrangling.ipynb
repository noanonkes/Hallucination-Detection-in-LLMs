{
 "cells": [
  {
   "cell_type": "code",
   "execution_count": 11,
   "metadata": {},
   "outputs": [],
   "source": [
    "import pandas as pd\n",
    "INPUT_PATH = 'data/squad.biomedical.train.json'\n",
    "OUTPUT_PATH = 'data/sampled_data.json'"
   ]
  },
  {
   "cell_type": "code",
   "execution_count": 12,
   "metadata": {},
   "outputs": [],
   "source": [
    "df = pd.read_json(INPUT_PATH)\n",
    "sampled_df = df.sample(n=5000, random_state=42)"
   ]
  },
  {
   "cell_type": "code",
   "execution_count": 13,
   "metadata": {},
   "outputs": [
    {
     "name": "stdout",
     "output_type": "stream",
     "text": [
      "3029\n"
     ]
    }
   ],
   "source": [
    "sampled_df[\"SVO\"] = False\n",
    "for i, row in sampled_df.iterrows():\n",
    "    answer = row['data']['paragraphs'][0]['qas'][0]['answers'][0]['text']\n",
    "\n",
    "    if len(answer.split(\" \")) >= 5:\n",
    "        sampled_df.at[i, \"SVO\"] = True\n",
    "\n",
    "sampled_df = sampled_df[sampled_df[\"SVO\"] == True]\n",
    "print(len(sampled_df))"
   ]
  },
  {
   "cell_type": "code",
   "execution_count": 14,
   "metadata": {},
   "outputs": [
    {
     "name": "stdout",
     "output_type": "stream",
     "text": [
      "2000\n"
     ]
    }
   ],
   "source": [
    "sampled_df = sampled_df.iloc[:2000].drop(\"SVO\", axis=1)\n",
    "print(len(sampled_df))"
   ]
  },
  {
   "cell_type": "code",
   "execution_count": 16,
   "metadata": {},
   "outputs": [],
   "source": [
    "sampled_df.to_json(OUTPUT_PATH, orient=\"records\", lines=True)"
   ]
  },
  {
   "cell_type": "code",
   "execution_count": null,
   "metadata": {},
   "outputs": [],
   "source": []
  }
 ],
 "metadata": {
  "kernelspec": {
   "display_name": "datamine",
   "language": "python",
   "name": "python3"
  },
  "language_info": {
   "codemirror_mode": {
    "name": "ipython",
    "version": 3
   },
   "file_extension": ".py",
   "mimetype": "text/x-python",
   "name": "python",
   "nbconvert_exporter": "python",
   "pygments_lexer": "ipython3",
   "version": "3.10.0"
  }
 },
 "nbformat": 4,
 "nbformat_minor": 2
}
