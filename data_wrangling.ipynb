{
 "cells": [
  {
   "cell_type": "code",
   "execution_count": 7,
   "metadata": {},
   "outputs": [],
   "source": [
    "import pandas as pd\n",
    "PATH = 'data/squad.biomedical.train.json'"
   ]
  },
  {
   "cell_type": "code",
   "execution_count": 12,
   "metadata": {},
   "outputs": [],
   "source": [
    "df = pd.read_json(PATH)\n",
    "sampled_df = df.sample(n=2000, random_state=42) "
   ]
  },
  {
   "cell_type": "code",
   "execution_count": null,
   "metadata": {},
   "outputs": [
    {
     "name": "stdout",
     "output_type": "stream",
     "text": [
      "2000\n"
     ]
    }
   ],
   "source": [
    "print(len(sampled_df))\n",
    "output_path = 'data/sampled_data.json'\n",
    "sampled_df.to_json(output_path, orient='records', lines=True)"
   ]
  },
  {
   "cell_type": "code",
   "execution_count": null,
   "metadata": {},
   "outputs": [],
   "source": [
    "df = pd.read_json(output_path, lines=True)\n",
    "\n",
    "train = df.iloc[:1400]\n",
    "train.to_json('data/train.json', orient='records', lines=True)\n",
    "\n",
    "val = df.iloc[1400:1600]\n",
    "val.to_json('data/val.json', orient='records', lines=True)\n",
    "\n",
    "holdout = df.iloc[1600:1900]\n",
    "holdout.to_json('data/holdout.json', orient='records', lines=True)\n",
    "\n",
    "test = df.iloc[1900:]\n",
    "test.to_json('data/test.json', orient='records', lines=True)"
   ]
  }
 ],
 "metadata": {
  "kernelspec": {
   "display_name": "datamine",
   "language": "python",
   "name": "python3"
  },
  "language_info": {
   "codemirror_mode": {
    "name": "ipython",
    "version": 3
   },
   "file_extension": ".py",
   "mimetype": "text/x-python",
   "name": "python",
   "nbconvert_exporter": "python",
   "pygments_lexer": "ipython3",
   "version": "3.10.11"
  }
 },
 "nbformat": 4,
 "nbformat_minor": 2
}
