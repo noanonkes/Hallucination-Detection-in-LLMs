{
 "cells": [
  {
   "cell_type": "code",
   "execution_count": 69,
   "metadata": {},
   "outputs": [
    {
     "data": {
      "text/plain": [
       "DatasetDict({\n",
       "    evaluation: Dataset({\n",
       "        features: ['gpt3_text', 'wiki_bio_text', 'gpt3_sentences', 'annotation', 'wiki_bio_test_idx', 'gpt3_text_samples'],\n",
       "        num_rows: 238\n",
       "    })\n",
       "})"
      ]
     },
     "execution_count": 69,
     "metadata": {},
     "output_type": "execute_result"
    }
   ],
   "source": [
    "import csv\n",
    "from datasets import load_dataset\n",
    "\n",
    "original_dataset = load_dataset(\"potsawee/wiki_bio_gpt3_hallucination\")\n",
    "original_dataset"
   ]
  },
  {
   "cell_type": "code",
   "execution_count": 70,
   "metadata": {},
   "outputs": [],
   "source": [
    "ans = []\n",
    "labels = []\n",
    "\n",
    "# Iterate over each passage and its corresponding label\n",
    "for i, (passage, label) in enumerate(zip(original_dataset['evaluation']['gpt3_sentences'], original_dataset['evaluation']['annotation'])):\n",
    "    sentences = passage\n",
    "    \n",
    "    # Check for mismatch in the number of sentences and labels\n",
    "    if len(sentences) != len(label):\n",
    "        print(f\"Mismatch at index {i}: Sentences - {len(sentences)}, Labels - {len(label)}\")\n",
    "    \n",
    "    ans.extend(sentences)\n",
    "    labels.extend(label)"
   ]
  },
  {
   "cell_type": "code",
   "execution_count": 71,
   "metadata": {},
   "outputs": [
    {
     "name": "stdout",
     "output_type": "stream",
     "text": [
      "1908\n",
      "1908\n"
     ]
    }
   ],
   "source": [
    "print(len(ans))\n",
    "print(len(labels))"
   ]
  },
  {
   "cell_type": "code",
   "execution_count": 72,
   "metadata": {},
   "outputs": [
    {
     "name": "stdout",
     "output_type": "stream",
     "text": [
      "CSV file has been created at ./data/generated/selfcheckgpt.csv\n"
     ]
    }
   ],
   "source": [
    "data = list(zip(range(1, len(ans) + 1), ans, labels))\n",
    "csv_file_path = \"./data/generated/selfcheckgpt.csv\"\n",
    "\n",
    "with open(csv_file_path, mode='w', newline='', encoding='utf-8') as file:\n",
    "    writer = csv.writer(file)\n",
    "    \n",
    "    # Write the header\n",
    "    writer.writerow(['qid', 'ans', 'label'])\n",
    "    \n",
    "    # Write the data\n",
    "    writer.writerows(data)\n",
    "\n",
    "print(f\"CSV file has been created at {csv_file_path}\")"
   ]
  },
  {
   "cell_type": "code",
   "execution_count": null,
   "metadata": {},
   "outputs": [],
   "source": []
  }
 ],
 "metadata": {
  "kernelspec": {
   "display_name": "RKWN",
   "language": "python",
   "name": "python3"
  },
  "language_info": {
   "codemirror_mode": {
    "name": "ipython",
    "version": 3
   },
   "file_extension": ".py",
   "mimetype": "text/x-python",
   "name": "python",
   "nbconvert_exporter": "python",
   "pygments_lexer": "ipython3",
   "version": "3.10.12"
  }
 },
 "nbformat": 4,
 "nbformat_minor": 2
}
