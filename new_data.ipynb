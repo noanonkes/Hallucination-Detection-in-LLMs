{
 "cells": [
  {
   "cell_type": "code",
   "execution_count": 77,
   "metadata": {},
   "outputs": [
    {
     "data": {
      "text/plain": [
       "DatasetDict({\n",
       "    evaluation: Dataset({\n",
       "        features: ['gpt3_text', 'wiki_bio_text', 'gpt3_sentences', 'annotation', 'wiki_bio_test_idx', 'gpt3_text_samples'],\n",
       "        num_rows: 238\n",
       "    })\n",
       "})"
      ]
     },
     "execution_count": 77,
     "metadata": {},
     "output_type": "execute_result"
    }
   ],
   "source": [
    "import csv\n",
    "from datasets import load_dataset\n",
    "\n",
    "original_dataset = load_dataset(\"potsawee/wiki_bio_gpt3_hallucination\")\n",
    "original_dataset"
   ]
  },
  {
   "cell_type": "code",
   "execution_count": 78,
   "metadata": {},
   "outputs": [],
   "source": [
    "# Rewrite labels function\n",
    "def rewrite_labels(original_label):\n",
    "    if original_label == 'accurate':\n",
    "        return 3\n",
    "    elif original_label == 'minor_inaccurate':\n",
    "        return 1\n",
    "    elif original_label == 'major_inaccurate':\n",
    "        return 0\n",
    "    else:\n",
    "        return None  # Handle other cases as needed"
   ]
  },
  {
   "cell_type": "code",
   "execution_count": 87,
   "metadata": {},
   "outputs": [],
   "source": [
    "qid = []\n",
    "ans = []\n",
    "labels = []\n",
    "\n",
    "# Iterate over each passage and its corresponding label\n",
    "for i, (passage, original_label) in enumerate(zip(original_dataset['evaluation']['gpt3_sentences'], original_dataset['evaluation']['annotation'])):\n",
    "    sentences = passage\n",
    "    \n",
    "    # Check for mismatch in the number of sentences and labels\n",
    "    if len(sentences) != len(original_label):\n",
    "        print(f\"Mismatch at index {i}: Sentences - {len(sentences)}, Labels - {len(original_label)}\")\n",
    "        \n",
    "    # Rewrite labels\n",
    "    rewritten_labels = [rewrite_labels(label) for label in original_label]\n",
    "    \n",
    "    qid.extend([i for sentence in sentences])\n",
    "    ans.extend(sentences)\n",
    "    labels.extend(rewritten_labels)"
   ]
  },
  {
   "cell_type": "code",
   "execution_count": 89,
   "metadata": {},
   "outputs": [
    {
     "name": "stdout",
     "output_type": "stream",
     "text": [
      "1908\n",
      "1908\n",
      "1908\n"
     ]
    }
   ],
   "source": [
    "print(len(ans))\n",
    "print(len(labels))\n",
    "print(len(qid))"
   ]
  },
  {
   "cell_type": "code",
   "execution_count": 92,
   "metadata": {},
   "outputs": [
    {
     "name": "stdout",
     "output_type": "stream",
     "text": [
      "CSV file has been created at ./data/generated/selfcheckgpt.csv\n"
     ]
    }
   ],
   "source": [
    "data = list(zip(qid, ans, labels))\n",
    "csv_file_path = \"./data/generated/selfcheckgpt.csv\"\n",
    "\n",
    "with open(csv_file_path, mode='w', newline='', encoding='utf-8') as file:\n",
    "    writer = csv.writer(file)\n",
    "    \n",
    "    # Write the header\n",
    "    writer.writerow(['qid', 'ans', 'label'])\n",
    "    \n",
    "    # Write the data\n",
    "    writer.writerows(data)\n",
    "\n",
    "print(f\"CSV file has been created at {csv_file_path}\")"
   ]
  },
  {
   "cell_type": "code",
   "execution_count": 93,
   "metadata": {},
   "outputs": [
    {
     "data": {
      "image/png": "[encoded data removed]",
      "text/plain": [
       "<Figure size 640x480 with 1 Axes>"
      ]
     },
     "metadata": {},
     "output_type": "display_data"
    }
   ],
   "source": [
    "from collections import Counter\n",
    "import matplotlib.pyplot as plt\n",
    "\n",
    "# Count the occurrences of each label\n",
    "label_counts = Counter(labels)\n",
    "\n",
    "# Plot the distribution\n",
    "plt.bar(label_counts.keys(), label_counts.values())\n",
    "plt.xlabel('Label')\n",
    "plt.ylabel('Count')\n",
    "plt.title('Label Distribution')\n",
    "plt.show()"
   ]
  },
  {
   "cell_type": "code",
   "execution_count": null,
   "metadata": {},
   "outputs": [],
   "source": []
  }
 ],
 "metadata": {
  "kernelspec": {
   "display_name": "RKWN",
   "language": "python",
   "name": "python3"
  },
  "language_info": {
   "codemirror_mode": {
    "name": "ipython",
    "version": 3
   },
   "file_extension": ".py",
   "mimetype": "text/x-python",
   "name": "python",
   "nbconvert_exporter": "python",
   "pygments_lexer": "ipython3",
   "version": "3.10.12"
  }
 },
 "nbformat": 4,
 "nbformat_minor": 2
}
